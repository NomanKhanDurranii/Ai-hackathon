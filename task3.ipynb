{
 "cells": [
  {
   "cell_type": "code",
   "execution_count": 1,
   "id": "876c320b",
   "metadata": {},
   "outputs": [],
   "source": [
    "import csv\n",
    "import time\n",
    "import re\n",
    "from selenium import webdriver\n",
    "from selenium.webdriver.common.by import By\n",
    "from selenium.webdriver.chrome.options import Options\n",
    "from selenium.common.exceptions import NoSuchElementException\n",
    "import pandas as pd"
   ]
  },
  {
   "cell_type": "code",
   "execution_count": 6,
   "id": "74b67b21",
   "metadata": {},
   "outputs": [
    {
     "name": "stdout",
     "output_type": "stream",
     "text": [
      "Scraping done and data saved to extracted_company_info.csv\n"
     ]
    }
   ],
   "source": [
    "\n",
    "\n",
    "# --- Function to extract data for 4th structure from a page ---\n",
    "def extract_company_info(driver):\n",
    "    data = {}\n",
    "    \n",
    "    def safe_find_text(by, selector):\n",
    "        try:\n",
    "            return driver.find_element(by, selector).text.strip()\n",
    "        except NoSuchElementException:\n",
    "            return \"\"\n",
    "    \n",
    "    # Extract all key-value blocks inside the container\n",
    "    # Blocks with label and value classes\n",
    "    \n",
    "    blocks = driver.find_elements(By.CSS_SELECTOR, \"div.block-QCJM7wcY\")\n",
    "    for block in blocks:\n",
    "        try:\n",
    "            label = block.find_element(By.CSS_SELECTOR, \"div.label-QCJM7wcY\").text.strip()\n",
    "            # The value could be inside an <a> or <div> with class value-QCJM7wcY\n",
    "            try:\n",
    "                value = block.find_element(By.CSS_SELECTOR, \"a .value-QCJM7wcY\").text.strip()\n",
    "            except NoSuchElementException:\n",
    "                value = block.find_element(By.CSS_SELECTOR, \"div.value-QCJM7wcY\").text.strip()\n",
    "            \n",
    "            data[label] = value\n",
    "        except NoSuchElementException:\n",
    "            continue\n",
    "    \n",
    "    # Extract the about/description paragraph (last div with content-H16icEW0)\n",
    "    try:\n",
    "        description = driver.find_element(By.CSS_SELECTOR, \"div.container-H16icEW0 div.content-H16icEW0 span\").text.strip()\n",
    "        data['Description'] = description\n",
    "    except NoSuchElementException:\n",
    "        data['Description'] = \"\"\n",
    "    \n",
    "    return data\n",
    "\n",
    "# --- Main scraping logic ---\n",
    "def main():\n",
    "    # Chrome options to run headless (optional)\n",
    "    options = Options()\n",
    "    # options.add_argument(\"--headless\")  # Uncomment if you want no browser UI\n",
    "    \n",
    "    driver = webdriver.Chrome(options=options)\n",
    "\n",
    "    # Read links from CSV file (symbol_link.csv)\n",
    "    links = []\n",
    "    with open(\"symbol_link.csv\", \"r\", newline=\"\", encoding=\"utf-8\") as file:\n",
    "        reader = csv.reader(file)\n",
    "        # Assuming the CSV has links in first column; skip header if any\n",
    "        for row in reader:\n",
    "            if row and \"http\" in row[0]:\n",
    "                links.append(row[0])\n",
    "\n",
    "    all_data = []\n",
    "    \n",
    "    for link in links:\n",
    "        print(f\"Processing: {link}\")\n",
    "        driver.get(link)\n",
    "        time.sleep(3)  # Wait for page load; adjust as needed\n",
    "\n",
    "        company_data = extract_company_info(driver)\n",
    "        company_data['URL'] = link  # Save source link for reference\n",
    "        all_data.append(company_data)\n",
    "\n",
    "    driver.quit()\n",
    "\n",
    "    # Save all extracted data to CSV\n",
    "    df = pd.DataFrame(all_data)\n",
    "    df.to_csv(\"extracted_company_info.csv\", index=False, encoding=\"utf-8\")\n",
    "    print(\"Scraping done and data saved to extracted_company_info.csv\")\n",
    "\n",
    "if __name__ == \"__main__\":\n",
    "    main()\n",
    "\n"
   ]
  },
  {
   "cell_type": "code",
   "execution_count": 7,
   "id": "5edf2ae9",
   "metadata": {},
   "outputs": [
    {
     "name": "stdout",
     "output_type": "stream",
     "text": [
      "['NYSE ', 'NYSE ', 'NASDAQ ', 'NYSE ', 'NASDAQ ', 'NYSE ', 'NASDAQ ', 'NYSE ', 'NASDAQ ', 'NASDAQ ', 'NYSE ', 'NASDAQ ', 'NASDAQ ', 'NYSE ', 'NASDAQ ', 'NYSE ', 'NYSE ', 'NASDAQ ', 'NASDAQ ', 'NYSE ', 'NASDAQ ', 'NASDAQ ', 'NYSE ', 'NASDAQ ', 'NASDAQ ', 'NASDAQ ', 'NASDAQ ', 'NYSE ', 'NASDAQ ', 'NASDAQ ', 'NASDAQ ', 'NASDAQ ', 'NYSE ', 'NYSE ', 'NASDAQ ', 'NYSE ', 'AMEX ', 'NASDAQ ', 'NYSE ', 'NASDAQ ', 'NASDAQ ', 'NASDAQ ', 'NYSE ', 'NASDAQ ', 'NYSE ', 'NASDAQ ', 'NASDAQ ', 'NASDAQ ', 'NASDAQ ', 'NASDAQ ', 'NYSE ', 'NASDAQ ', 'NYSE ', 'NASDAQ ', 'NASDAQ ', 'NASDAQ ', 'NASDAQ ', 'NASDAQ ', 'NASDAQ ', 'NASDAQ ', 'NASDAQ ', 'NASDAQ ', 'AMEX ', 'NYSE ', 'NASDAQ ', 'NASDAQ ', 'NYSE ', 'NASDAQ ', 'NASDAQ ', 'NASDAQ ', 'NASDAQ ', 'NASDAQ ', 'NYSE ', 'NASDAQ ', 'NASDAQ ', 'NYSE ', 'NASDAQ ', 'NASDAQ ', 'NASDAQ ', 'NASDAQ ', 'NYSE ', 'NASDAQ ', 'NASDAQ ', 'NASDAQ ', 'NASDAQ ', 'NASDAQ ', 'NASDAQ ', 'NYSE ', 'NASDAQ ', 'NASDAQ ', 'NASDAQ ', 'NASDAQ ', 'NASDAQ ', 'NASDAQ ', 'NYSE ', 'AMEX ', 'NASDAQ ', 'NYSE ', 'NASDAQ ', 'NYSE ']\n",
      "[' A', ' AA', ' AACB', ' AACT', ' AAL', ' AAM', ' AAME', ' AAMI', ' AAOI', ' AAON', ' AAP', ' AAPL', ' AARD', ' AB', ' ABAT', ' ABBV', ' ABCB', ' ABCL', ' ABEO', ' ABG', ' ABL', ' ABLV', ' ABM', ' ABNB', ' ABOS', ' ABP', ' ABSI', ' ABT', ' ABTS', ' ABUS', ' ABVC', ' ABVE', ' AC', ' ACA', ' ACAD', ' ACCO', ' ACCS', ' ACDC', ' ACEL', ' ACET', ' ACGL', ' ACHC', ' ACHR', ' ACHV', ' ACI', ' ACIC', ' ACIU', ' ACIW', ' ACLS', ' ACLX', ' ACM', ' ACMR', ' ACN', ' ACNB', ' ACNT', ' ACOG', ' ACON', ' ACRS', ' ACRV', ' ACT', ' ACTG', ' ACTU', ' ACU', ' ACVA', ' ACXP', ' ADBE', ' ADCT', ' ADD', ' ADEA', ' ADGM', ' ADI', ' ADIL', ' ADM', ' ADMA', ' ADN', ' ADNT', ' ADP', ' ADPT', ' ADSE', ' ADSK', ' ADT', ' ADTN', ' ADTX', ' ADUS', ' ADV', ' ADVB', ' ADVM', ' AEE', ' AEHL', ' AEHR', ' AEI', ' AEIS', ' AEMD', ' AENT', ' AEO', ' AEON', ' AEP', ' AER', ' AERT', ' AES']\n"
     ]
    }
   ],
   "source": [
    "symbol_links_df = pd.read_csv(\"symbol_link.csv\")\n",
    "# print(symbol_links_df.columns)\n",
    "exchange_list = symbol_links_df[\"Exchange \"].tolist()\n",
    "link_list = symbol_links_df[\" Symbol\"].tolist()\n",
    "\n",
    "print(exchange_list)\n",
    "print(link_list)\n",
    "driver = webdriver.Chrome()\n"
   ]
  },
  {
   "cell_type": "code",
   "execution_count": null,
   "id": "5d7f00e5",
   "metadata": {},
   "outputs": [
    {
     "name": "stdout",
     "output_type": "stream",
     "text": [
      "[['July 23', 'Q3 2025', '1.42USD', '88.81BUSD', '2.93TUSD', '0.52%', '31.09', '6.44USD', '93.74BUSD', '391.04BUSD', '14.92B', '1.09', '164K', '+3K +1.86%', '2.38MUSD', '571.56KUSD', 'Electronic Technology', 'Electronic Technology', 'Telecommunications Equipment', 'Telecommunications Equipment', 'Timothy Donald Cook', 'apple.com', 'apple.com', 'Cupertino', '1976', 'BBG000B9XRY4'], ['July 24', 'Q2 2025', '2.65USD', '16.59BUSD', '257.65BUSD', '2.39%', '48.34', '5.92USD', '6.02BUSD', '62.75BUSD', '928.43M', '0.71', '293.4K', '11.9K 3.90%', '213.88KUSD', '20.50KUSD', 'Technology Services', 'Technology Services', 'Packaged Software', 'Packaged Software', 'Arvind Krishna', 'ibm.com', 'ibm.com', 'Armonk', '1911', 'BBG000BLNNH6']]\n"
     ]
    }
   ],
   "source": [
    "\n",
    "\n",
    "def sanitize_text(text):\n",
    "    # Remove special unicode characters and extra whitespace\n",
    "    cleaned = re.sub(r'[^\\x00-\\x7F]+', '', text)  # keep only ASCII\n",
    "    return cleaned.strip()\n",
    "\n",
    "\n",
    "company_info = []\n",
    "\n",
    "for i in range(len(exchange_list)):\n",
    "    url = f\"https://www.tradingview.com/symbols/{exchange_list[i].strip()}-{link_list[i].strip()}/\"\n",
    "    driver.get(url)\n",
    "    time.sleep(3)\n",
    "\n",
    "    records = driver.find_elements(By.CSS_SELECTOR, \".wrapper-QCJM7wcY\")\n",
    "\n",
    "    sub_info = []\n",
    "    for record in records:\n",
    "        children = record.find_elements(By.CLASS_NAME, \"apply-overflow-tooltip\")\n",
    "        for j in range(min(23, len(children))):\n",
    "            raw_text = children[j].text\n",
    "            cleaned_text = sanitize_text(raw_text)\n",
    "            sub_info.append(cleaned_text)\n",
    "\n",
    "    company_info.append(sub_info)\n",
    "\n",
    "\n",
    "    with open('extract_company_info.csv', 'a', newline='', encoding='utf-8') as file:\n",
    "        writer = csv.writer(file)\n",
    "        row = [f\"{exchange_list[i].strip()}-{link_list[i].strip()}\"] + sub_info\n",
    "        writer.writerow(row)\n",
    "\n",
    "driver.quit()\n",
    "print(company_info)\n"
   ]
  },
  {
   "cell_type": "code",
   "execution_count": 10,
   "id": "af02fdee",
   "metadata": {},
   "outputs": [
    {
     "name": "stdout",
     "output_type": "stream",
     "text": [
      "['August 19', 'Q3 2025', '1.37USD', '1.66BUSD', '33.26BUSD', '0.83%', '29.53', '4.07USD', '1.29BUSD', '6.51BUSD', '282.92M', '0.84', '17.9K', '200 1.10%', '363.69KUSD', '72.01KUSD', 'Health Technology', 'Health Technology', 'Medical Specialties', 'Medical Specialties', 'Padraig Mcdonnell', 'agilent.com', 'agilent.com', 'Santa Clara', '1999', 'BBG000C2V3D6']\n"
     ]
    }
   ],
   "source": [
    "firstList = company_info[0]\n",
    "print(firstList)"
   ]
  },
  {
   "cell_type": "code",
   "execution_count": null,
   "id": "a3a16524",
   "metadata": {},
   "outputs": [],
   "source": [
    "\n",
    "\n",
    "\n",
    "\n",
    "\n",
    "\n",
    "\n",
    "driver.quit()"
   ]
  }
 ],
 "metadata": {
  "kernelspec": {
   "display_name": "EssentialForWebscraping",
   "language": "python",
   "name": "python3"
  },
  "language_info": {
   "codemirror_mode": {
    "name": "ipython",
    "version": 3
   },
   "file_extension": ".py",
   "mimetype": "text/x-python",
   "name": "python",
   "nbconvert_exporter": "python",
   "pygments_lexer": "ipython3",
   "version": "3.12.3"
  }
 },
 "nbformat": 4,
 "nbformat_minor": 5
}
